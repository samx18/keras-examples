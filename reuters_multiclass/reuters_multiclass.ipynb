{
 "cells": [
  {
   "cell_type": "markdown",
   "metadata": {},
   "source": [
    "# Reuters Multiclass Classification Example\n",
    "\n",
    "This example describes how to do a multiclass classfication with the reuters dataset\n",
    "\n",
    "Import the reuters training and test datasets from `keras.datasets`\n",
    "\n",
    "As with the IMDB example we will stick with the top 10,000 words"
   ]
  },
  {
   "cell_type": "code",
   "execution_count": 10,
   "metadata": {},
   "outputs": [],
   "source": [
    "from keras.datasets import reuters\n",
    "(train_data, train_labels), (test_data, test_labels) = reuters.load_data(num_words=10000)"
   ]
  },
  {
   "cell_type": "code",
   "execution_count": 11,
   "metadata": {},
   "outputs": [
    {
     "data": {
      "text/plain": [
       "2246"
      ]
     },
     "execution_count": 11,
     "metadata": {},
     "output_type": "execute_result"
    }
   ],
   "source": [
    "len(train_data)\n",
    "len(test_data)"
   ]
  },
  {
   "cell_type": "code",
   "execution_count": 13,
   "metadata": {},
   "outputs": [
    {
     "data": {
      "text/plain": [
       "3"
      ]
     },
     "execution_count": 13,
     "metadata": {},
     "output_type": "execute_result"
    }
   ],
   "source": [
    "train_labels[0]"
   ]
  },
  {
   "cell_type": "markdown",
   "metadata": {},
   "source": [
    "### Data Transformation\n",
    "Vectorize train and test data before inputting them to the models. You should also hot encode them.\n"
   ]
  },
  {
   "cell_type": "code",
   "execution_count": 14,
   "metadata": {},
   "outputs": [],
   "source": [
    "import numpy as np\n",
    "\n",
    "def vectorize_sequences(sequences,dimension=10000):\n",
    "    results=np.zeros((len(sequences),dimension))\n",
    "    for i, sequence in enumerate(sequences):\n",
    "        results[i, sequence] = 1.\n",
    "    return results\n",
    "\n",
    "x_train = vectorize_sequences(train_data)\n",
    "x_test = vectorize_sequences(test_data)"
   ]
  },
  {
   "cell_type": "markdown",
   "metadata": {},
   "source": [
    "One hot encode the labels "
   ]
  },
  {
   "cell_type": "code",
   "execution_count": 15,
   "metadata": {},
   "outputs": [],
   "source": [
    "def to_one_hot(labels, dimension=46):\n",
    "    results=np.zeros((len(labels),dimension))\n",
    "    for i, label in enumerate(labels):\n",
    "        results[i, label] = 1.\n",
    "    return results\n",
    "\n",
    "one_hot_train_labels = to_one_hot(train_labels)\n",
    "one_hot_test_labels = to_one_hot(test_labels)\n",
    "    "
   ]
  },
  {
   "cell_type": "code",
   "execution_count": 16,
   "metadata": {},
   "outputs": [
    {
     "data": {
      "text/plain": [
       "array([0., 0., 0., 1., 0., 0., 0., 0., 0., 0., 0., 0., 0., 0., 0., 0., 0.,\n",
       "       0., 0., 0., 0., 0., 0., 0., 0., 0., 0., 0., 0., 0., 0., 0., 0., 0.,\n",
       "       0., 0., 0., 0., 0., 0., 0., 0., 0., 0., 0., 0.])"
      ]
     },
     "execution_count": 16,
     "metadata": {},
     "output_type": "execute_result"
    }
   ],
   "source": [
    "one_hot_test_labels[0]"
   ]
  },
  {
   "cell_type": "markdown",
   "metadata": {},
   "source": [
    "Alternatively you can the keras built in way via `to_categorical`"
   ]
  },
  {
   "cell_type": "code",
   "execution_count": 17,
   "metadata": {},
   "outputs": [],
   "source": [
    "from keras.utils.np_utils import to_categorical\n",
    "one_hot_train_labels = to_categorical(train_labels)\n",
    "one_hot_test_labels = to_categorical(test_labels)"
   ]
  },
  {
   "cell_type": "code",
   "execution_count": 18,
   "metadata": {},
   "outputs": [
    {
     "data": {
      "text/plain": [
       "array([0., 0., 0., 1., 0., 0., 0., 0., 0., 0., 0., 0., 0., 0., 0., 0., 0.,\n",
       "       0., 0., 0., 0., 0., 0., 0., 0., 0., 0., 0., 0., 0., 0., 0., 0., 0.,\n",
       "       0., 0., 0., 0., 0., 0., 0., 0., 0., 0., 0., 0.], dtype=float32)"
      ]
     },
     "execution_count": 18,
     "metadata": {},
     "output_type": "execute_result"
    }
   ],
   "source": [
    "one_hot_test_labels[0]"
   ]
  },
  {
   "cell_type": "markdown",
   "metadata": {},
   "source": [
    "### Model Building & Compiling\n",
    "Since this classification deals with a higher dimensionality classiifcation. 46 mutually exclusive classification instead of 2 mutually exclusive classification. We can try to build the model with 64 dimension Intermediate layers ( _instead of 16 used in the IMDB classification poroblem_ )"
   ]
  },
  {
   "cell_type": "code",
   "execution_count": 36,
   "metadata": {},
   "outputs": [],
   "source": [
    "from keras import models\n",
    "from keras import layers\n",
    "\n",
    "model = models.Sequential()\n",
    "\n",
    "model.add(layers.Dense(64, activation='relu', input_shape=(10000,))) \n",
    "model.add(layers.Dense(64, activation='relu'))\n",
    "model.add(layers.Dense(46, activation='softmax'))"
   ]
  },
  {
   "cell_type": "markdown",
   "metadata": {},
   "source": [
    "The last layer uses a softmax activation. It means the network will output a probability distribution over the 46 different output classes—for every input sample, the network will produce a 46-dimensional output vector, where output[i] is the probability that the sample belongs to class i. The 46 scores will sum to 1."
   ]
  },
  {
   "cell_type": "markdown",
   "metadata": {},
   "source": [
    "Compiling the model"
   ]
  },
  {
   "cell_type": "code",
   "execution_count": 37,
   "metadata": {},
   "outputs": [],
   "source": [
    "model.compile(optimizer='rmsprop',\n",
    "             loss='categorical_crossentropy',\n",
    "             metrics=['accuracy'])"
   ]
  },
  {
   "cell_type": "markdown",
   "metadata": {},
   "source": [
    "Creating a validation set\n",
    "\n"
   ]
  },
  {
   "cell_type": "code",
   "execution_count": 38,
   "metadata": {},
   "outputs": [],
   "source": [
    "x_val = x_train[:1000]\n",
    "partial_x_train = x_train[1000:]\n",
    "y_val = one_hot_train_labels[:1000]\n",
    "partial_y_train = one_hot_train_labels[1000:]"
   ]
  },
  {
   "cell_type": "markdown",
   "metadata": {},
   "source": [
    "### Training"
   ]
  },
  {
   "cell_type": "code",
   "execution_count": 39,
   "metadata": {},
   "outputs": [
    {
     "name": "stdout",
     "output_type": "stream",
     "text": [
      "Train on 7982 samples, validate on 1000 samples\n",
      "Epoch 1/20\n",
      "7982/7982 [==============================] - 1s 83us/step - loss: 2.5647 - accuracy: 0.5329 - val_loss: 1.6811 - val_accuracy: 0.6350\n",
      "Epoch 2/20\n",
      "7982/7982 [==============================] - 1s 67us/step - loss: 1.4009 - accuracy: 0.6969 - val_loss: 1.3189 - val_accuracy: 0.7000\n",
      "Epoch 3/20\n",
      "7982/7982 [==============================] - 1s 69us/step - loss: 1.0660 - accuracy: 0.7615 - val_loss: 1.1636 - val_accuracy: 0.7450\n",
      "Epoch 4/20\n",
      "7982/7982 [==============================] - 1s 72us/step - loss: 0.8428 - accuracy: 0.8161 - val_loss: 1.0471 - val_accuracy: 0.7790\n",
      "Epoch 5/20\n",
      "7982/7982 [==============================] - 1s 116us/step - loss: 0.6724 - accuracy: 0.8572 - val_loss: 0.9720 - val_accuracy: 0.7960\n",
      "Epoch 6/20\n",
      "7982/7982 [==============================] - 1s 67us/step - loss: 0.5409 - accuracy: 0.8861 - val_loss: 0.9455 - val_accuracy: 0.8010\n",
      "Epoch 7/20\n",
      "7982/7982 [==============================] - 1s 71us/step - loss: 0.4349 - accuracy: 0.9078 - val_loss: 0.9165 - val_accuracy: 0.8070\n",
      "Epoch 8/20\n",
      "7982/7982 [==============================] - 1s 71us/step - loss: 0.3521 - accuracy: 0.9257 - val_loss: 0.9054 - val_accuracy: 0.8130\n",
      "Epoch 9/20\n",
      "7982/7982 [==============================] - 1s 67us/step - loss: 0.2896 - accuracy: 0.9382 - val_loss: 0.9533 - val_accuracy: 0.8000\n",
      "Epoch 10/20\n",
      "7982/7982 [==============================] - 1s 67us/step - loss: 0.2483 - accuracy: 0.9431 - val_loss: 0.9276 - val_accuracy: 0.8200\n",
      "Epoch 11/20\n",
      "7982/7982 [==============================] - 1s 67us/step - loss: 0.2102 - accuracy: 0.9484 - val_loss: 0.9537 - val_accuracy: 0.8230\n",
      "Epoch 12/20\n",
      "7982/7982 [==============================] - 1s 64us/step - loss: 0.1829 - accuracy: 0.9513 - val_loss: 1.0018 - val_accuracy: 0.8140\n",
      "Epoch 13/20\n",
      "7982/7982 [==============================] - 0s 62us/step - loss: 0.1649 - accuracy: 0.9534 - val_loss: 0.9797 - val_accuracy: 0.8140\n",
      "Epoch 14/20\n",
      "7982/7982 [==============================] - 1s 68us/step - loss: 0.1516 - accuracy: 0.9541 - val_loss: 0.9896 - val_accuracy: 0.8180\n",
      "Epoch 15/20\n",
      "7982/7982 [==============================] - 1s 63us/step - loss: 0.1390 - accuracy: 0.9555 - val_loss: 1.0702 - val_accuracy: 0.8100\n",
      "Epoch 16/20\n",
      "7982/7982 [==============================] - 1s 64us/step - loss: 0.1360 - accuracy: 0.9563 - val_loss: 1.0379 - val_accuracy: 0.8110\n",
      "Epoch 17/20\n",
      "7982/7982 [==============================] - 1s 65us/step - loss: 0.1284 - accuracy: 0.9544 - val_loss: 1.0547 - val_accuracy: 0.8110\n",
      "Epoch 18/20\n",
      "7982/7982 [==============================] - 1s 64us/step - loss: 0.1192 - accuracy: 0.9563 - val_loss: 1.1592 - val_accuracy: 0.7990\n",
      "Epoch 19/20\n",
      "7982/7982 [==============================] - 1s 65us/step - loss: 0.1170 - accuracy: 0.9577 - val_loss: 1.1134 - val_accuracy: 0.8120\n",
      "Epoch 20/20\n",
      "7982/7982 [==============================] - 1s 65us/step - loss: 0.1131 - accuracy: 0.9585 - val_loss: 1.0953 - val_accuracy: 0.8020\n"
     ]
    }
   ],
   "source": [
    "history=model.fit(partial_x_train,\n",
    "                 partial_y_train,\n",
    "                 epochs=20,\n",
    "                 batch_size=512,\n",
    "         validation_data=(x_val,y_val))"
   ]
  },
  {
   "cell_type": "markdown",
   "metadata": {},
   "source": [
    "### Graphing\n",
    "\n",
    "Training and validation loss graph"
   ]
  },
  {
   "cell_type": "code",
   "execution_count": 40,
   "metadata": {},
   "outputs": [
    {
     "data": {
      "image/png": "[encoded data removed]",
      "text/plain": [
       "<Figure size 432x288 with 1 Axes>"
      ]
     },
     "metadata": {
      "needs_background": "light"
     },
     "output_type": "display_data"
    }
   ],
   "source": [
    "import matplotlib.pyplot as plt\n",
    "history_dict=history.history\n",
    "loss_values = history_dict['loss']\n",
    "val_loss = history_dict['val_loss']\n",
    "epochs = range(1, len(loss_values) + 1) #number of epochs +1 for graph\n",
    "\n",
    "#print(\"loss_values:\" , loss_values)\n",
    "#print(\"val_loss:\" , val_loss)\n",
    "#print(\"epochs:\" , epochs)\n",
    "\n",
    "\n",
    "plt.plot(epochs,loss_values, 'bo', label = \"Training Loss\") # 'bo' == blue dot for training loss\n",
    "plt.plot(epochs,val_loss, 'b', label = \"Validation Loss\" ) # 'b' == blue line for validation loss\n",
    "plt.title(\"Training and Validation Loss\")\n",
    "plt.xlabel(\"Epochs\")\n",
    "plt.ylabel(\"Loss\")\n",
    "plt.legend()\n",
    "\n",
    "plt.show()\n"
   ]
  },
  {
   "cell_type": "markdown",
   "metadata": {},
   "source": [
    "Training and validation accuracy"
   ]
  },
  {
   "cell_type": "code",
   "execution_count": 41,
   "metadata": {},
   "outputs": [
    {
     "data": {
      "image/png": "[encoded data removed]",
      "text/plain": [
       "<Figure size 432x288 with 1 Axes>"
      ]
     },
     "metadata": {
      "needs_background": "light"
     },
     "output_type": "display_data"
    }
   ],
   "source": [
    "import matplotlib.pyplot as plt\n",
    "history_dict=history.history\n",
    "accuracy_values = history_dict['accuracy']\n",
    "val_accuracy = history_dict['val_accuracy']\n",
    "epochs = range(1, len(loss_values) + 1) #number of epochs +1 for graph\n",
    "\n",
    "#print(\"loss_values:\" , loss_values)\n",
    "#print(\"val_loss:\" , val_loss)\n",
    "#print(\"epochs:\" , epochs)\n",
    "\n",
    "\n",
    "plt.plot(epochs,accuracy_values, 'bo', label = \"Training Accuracy\") # 'bo' == blue dot for training accuracy\n",
    "plt.plot(epochs,val_accuracy, 'b', label = \"Validation Accuracy\" ) # 'b' == blue line for validation accuracy\n",
    "plt.title(\"Training and Validation Accuracy\")\n",
    "plt.xlabel(\"Epochs\")\n",
    "plt.ylabel(\"Loss\")\n",
    "plt.legend()\n",
    "\n",
    "plt.show()\n"
   ]
  },
  {
   "cell_type": "markdown",
   "metadata": {},
   "source": [
    "### Retraining with 9 epochs"
   ]
  },
  {
   "cell_type": "code",
   "execution_count": 44,
   "metadata": {},
   "outputs": [
    {
     "name": "stdout",
     "output_type": "stream",
     "text": [
      "Train on 7982 samples, validate on 1000 samples\n",
      "Epoch 1/9\n",
      "7982/7982 [==============================] - 1s 76us/step - loss: 2.6411 - accuracy: 0.4878 - val_loss: 1.7110 - val_accuracy: 0.6470\n",
      "Epoch 2/9\n",
      "7982/7982 [==============================] - 1s 66us/step - loss: 1.3846 - accuracy: 0.7114 - val_loss: 1.2820 - val_accuracy: 0.7220\n",
      "Epoch 3/9\n",
      "7982/7982 [==============================] - 1s 67us/step - loss: 1.0162 - accuracy: 0.7834 - val_loss: 1.1409 - val_accuracy: 0.7430\n",
      "Epoch 4/9\n",
      "7982/7982 [==============================] - 1s 63us/step - loss: 0.7922 - accuracy: 0.8314 - val_loss: 1.0064 - val_accuracy: 0.7850\n",
      "Epoch 5/9\n",
      "7982/7982 [==============================] - 1s 68us/step - loss: 0.6296 - accuracy: 0.8690 - val_loss: 0.9502 - val_accuracy: 0.7970\n",
      "Epoch 6/9\n",
      "7982/7982 [==============================] - 1s 72us/step - loss: 0.5054 - accuracy: 0.8958 - val_loss: 0.9100 - val_accuracy: 0.8070\n",
      "Epoch 7/9\n",
      "7982/7982 [==============================] - 1s 67us/step - loss: 0.4029 - accuracy: 0.9183 - val_loss: 0.8922 - val_accuracy: 0.8060\n",
      "Epoch 8/9\n",
      "7982/7982 [==============================] - 1s 69us/step - loss: 0.3283 - accuracy: 0.9310 - val_loss: 0.9353 - val_accuracy: 0.7930\n",
      "Epoch 9/9\n",
      "7982/7982 [==============================] - 1s 70us/step - loss: 0.2733 - accuracy: 0.9416 - val_loss: 0.9081 - val_accuracy: 0.8100\n",
      "2246/2246 [==============================] - 0s 116us/step\n"
     ]
    }
   ],
   "source": [
    "from keras import models\n",
    "from keras import layers\n",
    "\n",
    "model = models.Sequential()\n",
    "\n",
    "model.add(layers.Dense(64, activation='relu', input_shape=(10000,))) \n",
    "model.add(layers.Dense(64, activation='relu'))\n",
    "model.add(layers.Dense(46, activation='softmax'))\n",
    "\n",
    "\n",
    "model.compile(optimizer='rmsprop',\n",
    "             loss='categorical_crossentropy',\n",
    "             metrics=['accuracy'])\n",
    "\n",
    "\n",
    "\n",
    "model.fit(partial_x_train,\n",
    "                 partial_y_train,\n",
    "                 epochs=9,\n",
    "                 batch_size=512,\n",
    "         validation_data=(x_val,y_val))\n",
    "\n",
    "results = model.evaluate(x_test, one_hot_test_labels)"
   ]
  },
  {
   "cell_type": "code",
   "execution_count": 45,
   "metadata": {},
   "outputs": [
    {
     "data": {
      "text/plain": [
       "[0.9945510006969992, 0.7916295528411865]"
      ]
     },
     "execution_count": 45,
     "metadata": {},
     "output_type": "execute_result"
    }
   ],
   "source": [
    "results"
   ]
  },
  {
   "cell_type": "markdown",
   "metadata": {},
   "source": [
    "### Predictions \n",
    "\n"
   ]
  },
  {
   "cell_type": "code",
   "execution_count": 48,
   "metadata": {},
   "outputs": [],
   "source": [
    "predictions = model.predict(x_test)"
   ]
  },
  {
   "cell_type": "markdown",
   "metadata": {},
   "source": [
    "Each entry in Predictions is a vector of 46"
   ]
  },
  {
   "cell_type": "code",
   "execution_count": 49,
   "metadata": {},
   "outputs": [
    {
     "data": {
      "text/plain": [
       "(46,)"
      ]
     },
     "execution_count": 49,
     "metadata": {},
     "output_type": "execute_result"
    }
   ],
   "source": [
    "predictions[0].shape"
   ]
  },
  {
   "cell_type": "markdown",
   "metadata": {},
   "source": [
    "The cooefficients in the vector sum to 1.0"
   ]
  },
  {
   "cell_type": "code",
   "execution_count": 50,
   "metadata": {},
   "outputs": [
    {
     "data": {
      "text/plain": [
       "1.0"
      ]
     },
     "execution_count": 50,
     "metadata": {},
     "output_type": "execute_result"
    }
   ],
   "source": [
    "np.sum(predictions[0])"
   ]
  },
  {
   "cell_type": "markdown",
   "metadata": {},
   "source": [
    "The largest entry is the predicted class - the class with the highest probability "
   ]
  },
  {
   "cell_type": "code",
   "execution_count": 52,
   "metadata": {},
   "outputs": [
    {
     "data": {
      "text/plain": [
       "3"
      ]
     },
     "execution_count": 52,
     "metadata": {},
     "output_type": "execute_result"
    }
   ],
   "source": [
    "np.argmax(predictions[0])"
   ]
  },
  {
   "cell_type": "code",
   "execution_count": null,
   "metadata": {},
   "outputs": [],
   "source": []
  }
 ],
 "metadata": {
  "kernelspec": {
   "display_name": "Python 3",
   "language": "python",
   "name": "python3"
  },
  "language_info": {
   "codemirror_mode": {
    "name": "ipython",
    "version": 3
   },
   "file_extension": ".py",
   "mimetype": "text/x-python",
   "name": "python",
   "nbconvert_exporter": "python",
   "pygments_lexer": "ipython3",
   "version": "3.7.4"
  }
 },
 "nbformat": 4,
 "nbformat_minor": 4
}
