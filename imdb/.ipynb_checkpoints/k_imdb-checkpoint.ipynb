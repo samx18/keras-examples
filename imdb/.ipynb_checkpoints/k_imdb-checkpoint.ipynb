{
 "cells": [
  {
   "cell_type": "code",
   "execution_count": 1,
   "metadata": {},
   "outputs": [
    {
     "name": "stderr",
     "output_type": "stream",
     "text": [
      "Using TensorFlow backend.\n"
     ]
    }
   ],
   "source": [
    "from keras.datasets import imdb\n",
    "(train_data,train_labels),(test_data,test_labels)=imdb.load_data(num_words=10000)"
   ]
  },
  {
   "cell_type": "code",
   "execution_count": 2,
   "metadata": {},
   "outputs": [
    {
     "data": {
      "text/plain": [
       "[1,\n",
       " 14,\n",
       " 22,\n",
       " 16,\n",
       " 43,\n",
       " 530,\n",
       " 973,\n",
       " 1622,\n",
       " 1385,\n",
       " 65,\n",
       " 458,\n",
       " 4468,\n",
       " 66,\n",
       " 3941,\n",
       " 4,\n",
       " 173,\n",
       " 36,\n",
       " 256,\n",
       " 5,\n",
       " 25,\n",
       " 100,\n",
       " 43,\n",
       " 838,\n",
       " 112,\n",
       " 50,\n",
       " 670,\n",
       " 2,\n",
       " 9,\n",
       " 35,\n",
       " 480,\n",
       " 284,\n",
       " 5,\n",
       " 150,\n",
       " 4,\n",
       " 172,\n",
       " 112,\n",
       " 167,\n",
       " 2,\n",
       " 336,\n",
       " 385,\n",
       " 39,\n",
       " 4,\n",
       " 172,\n",
       " 4536,\n",
       " 1111,\n",
       " 17,\n",
       " 546,\n",
       " 38,\n",
       " 13,\n",
       " 447,\n",
       " 4,\n",
       " 192,\n",
       " 50,\n",
       " 16,\n",
       " 6,\n",
       " 147,\n",
       " 2025,\n",
       " 19,\n",
       " 14,\n",
       " 22,\n",
       " 4,\n",
       " 1920,\n",
       " 4613,\n",
       " 469,\n",
       " 4,\n",
       " 22,\n",
       " 71,\n",
       " 87,\n",
       " 12,\n",
       " 16,\n",
       " 43,\n",
       " 530,\n",
       " 38,\n",
       " 76,\n",
       " 15,\n",
       " 13,\n",
       " 1247,\n",
       " 4,\n",
       " 22,\n",
       " 17,\n",
       " 515,\n",
       " 17,\n",
       " 12,\n",
       " 16,\n",
       " 626,\n",
       " 18,\n",
       " 2,\n",
       " 5,\n",
       " 62,\n",
       " 386,\n",
       " 12,\n",
       " 8,\n",
       " 316,\n",
       " 8,\n",
       " 106,\n",
       " 5,\n",
       " 4,\n",
       " 2223,\n",
       " 5244,\n",
       " 16,\n",
       " 480,\n",
       " 66,\n",
       " 3785,\n",
       " 33,\n",
       " 4,\n",
       " 130,\n",
       " 12,\n",
       " 16,\n",
       " 38,\n",
       " 619,\n",
       " 5,\n",
       " 25,\n",
       " 124,\n",
       " 51,\n",
       " 36,\n",
       " 135,\n",
       " 48,\n",
       " 25,\n",
       " 1415,\n",
       " 33,\n",
       " 6,\n",
       " 22,\n",
       " 12,\n",
       " 215,\n",
       " 28,\n",
       " 77,\n",
       " 52,\n",
       " 5,\n",
       " 14,\n",
       " 407,\n",
       " 16,\n",
       " 82,\n",
       " 2,\n",
       " 8,\n",
       " 4,\n",
       " 107,\n",
       " 117,\n",
       " 5952,\n",
       " 15,\n",
       " 256,\n",
       " 4,\n",
       " 2,\n",
       " 7,\n",
       " 3766,\n",
       " 5,\n",
       " 723,\n",
       " 36,\n",
       " 71,\n",
       " 43,\n",
       " 530,\n",
       " 476,\n",
       " 26,\n",
       " 400,\n",
       " 317,\n",
       " 46,\n",
       " 7,\n",
       " 4,\n",
       " 2,\n",
       " 1029,\n",
       " 13,\n",
       " 104,\n",
       " 88,\n",
       " 4,\n",
       " 381,\n",
       " 15,\n",
       " 297,\n",
       " 98,\n",
       " 32,\n",
       " 2071,\n",
       " 56,\n",
       " 26,\n",
       " 141,\n",
       " 6,\n",
       " 194,\n",
       " 7486,\n",
       " 18,\n",
       " 4,\n",
       " 226,\n",
       " 22,\n",
       " 21,\n",
       " 134,\n",
       " 476,\n",
       " 26,\n",
       " 480,\n",
       " 5,\n",
       " 144,\n",
       " 30,\n",
       " 5535,\n",
       " 18,\n",
       " 51,\n",
       " 36,\n",
       " 28,\n",
       " 224,\n",
       " 92,\n",
       " 25,\n",
       " 104,\n",
       " 4,\n",
       " 226,\n",
       " 65,\n",
       " 16,\n",
       " 38,\n",
       " 1334,\n",
       " 88,\n",
       " 12,\n",
       " 16,\n",
       " 283,\n",
       " 5,\n",
       " 16,\n",
       " 4472,\n",
       " 113,\n",
       " 103,\n",
       " 32,\n",
       " 15,\n",
       " 16,\n",
       " 5345,\n",
       " 19,\n",
       " 178,\n",
       " 32]"
      ]
     },
     "execution_count": 2,
     "metadata": {},
     "output_type": "execute_result"
    }
   ],
   "source": [
    "train_data[0]"
   ]
  },
  {
   "cell_type": "code",
   "execution_count": 3,
   "metadata": {},
   "outputs": [
    {
     "data": {
      "text/plain": [
       "1"
      ]
     },
     "execution_count": 3,
     "metadata": {},
     "output_type": "execute_result"
    }
   ],
   "source": [
    "train_labels[0]"
   ]
  },
  {
   "cell_type": "markdown",
   "metadata": {},
   "source": [
    "Since we are restricting to the top 10,000 words, no word index will exceed 10,000. You can confirm this:"
   ]
  },
  {
   "cell_type": "code",
   "execution_count": 4,
   "metadata": {},
   "outputs": [
    {
     "data": {
      "text/plain": [
       "9999"
      ]
     },
     "execution_count": 4,
     "metadata": {},
     "output_type": "execute_result"
    }
   ],
   "source": [
    "max([max(sequence)for sequence in train_data])"
   ]
  },
  {
   "cell_type": "markdown",
   "metadata": {},
   "source": [
    "The dataset currently includes lists. However to feed them into our model we will need to vectorize and one hot encode them using the following helper function"
   ]
  },
  {
   "cell_type": "code",
   "execution_count": 5,
   "metadata": {},
   "outputs": [],
   "source": [
    "import numpy as np\n",
    "\n",
    "def vectorize_sequences(sequences,dimension=10000):\n",
    "    results=np.zeros((len(sequences),dimension))\n",
    "    for i, sequence in enumerate(sequences):\n",
    "        results[i, sequence] = 1.\n",
    "    return results\n",
    "\n",
    "x_train = vectorize_sequences(train_data)\n",
    "x_test = vectorize_sequences(test_data)"
   ]
  },
  {
   "cell_type": "markdown",
   "metadata": {},
   "source": [
    "Convert the lables to vectors as well"
   ]
  },
  {
   "cell_type": "code",
   "execution_count": 6,
   "metadata": {},
   "outputs": [],
   "source": [
    "y_train = np.asarray(train_labels).astype('float32')\n",
    "y_test = np.asarray(test_labels).astype('float32')"
   ]
  },
  {
   "cell_type": "markdown",
   "metadata": {},
   "source": [
    "Builidng the model\n",
    "\n",
    "* Two intermediate layers with 16 hidden units each\n",
    "* A third layer that will output the scalar prediction regarding the sentiment of the current review\n",
    "\n",
    "\n"
   ]
  },
  {
   "cell_type": "code",
   "execution_count": 9,
   "metadata": {},
   "outputs": [],
   "source": [
    "from keras import models\n",
    "from keras import layers\n",
    "\n",
    "model = models.Sequential()\n",
    "\n",
    "model.add(layers.Dense(16, activation='relu', input_shape=(10000,)))\n",
    "model.add(layers.Dense(16, activation='relu'))\n",
    "model.add(layers.Dense(1, activation='sigmoid'))\n"
   ]
  },
  {
   "cell_type": "markdown",
   "metadata": {},
   "source": [
    "Because we are solving a binary classification problem, it is best to use the `binary_crossentropy` loss function\n",
    "\n",
    "The optimizer we will use is `rmsprop`\n",
    "\n",
    "Finally we will use the `accuracy` metrics to measure \n",
    "\n",
    "Compiling the model\n"
   ]
  },
  {
   "cell_type": "code",
   "execution_count": 11,
   "metadata": {},
   "outputs": [],
   "source": [
    "model.compile(optimizer='rmsprop',\n",
    "              loss='binary_crossentropy',\n",
    "              metrics=['accuracy'])"
   ]
  },
  {
   "cell_type": "markdown",
   "metadata": {},
   "source": [
    "Create a validation set from the training set"
   ]
  },
  {
   "cell_type": "code",
   "execution_count": 14,
   "metadata": {},
   "outputs": [],
   "source": [
    "x_val = x_train[:10000]\n",
    "partial_x_train = x_train[10000:]\n",
    "y_val = y_train[:10000]\n",
    "partial_y_train = y_train[10000:]"
   ]
  },
  {
   "cell_type": "markdown",
   "metadata": {},
   "source": [
    "Train the model with `20 epochs` over the training set in `mini batch size of 512`"
   ]
  },
  {
   "cell_type": "code",
   "execution_count": 17,
   "metadata": {},
   "outputs": [
    {
     "name": "stdout",
     "output_type": "stream",
     "text": [
      "Train on 15000 samples, validate on 10000 samples\n",
      "Epoch 1/20\n",
      "15000/15000 [==============================] - 1s 98us/step - loss: 0.5468 - accuracy: 0.7815 - val_loss: 0.4297 - val_accuracy: 0.8510\n",
      "Epoch 2/20\n",
      "15000/15000 [==============================] - 1s 66us/step - loss: 0.3371 - accuracy: 0.8965 - val_loss: 0.3488 - val_accuracy: 0.8603\n",
      "Epoch 3/20\n",
      "15000/15000 [==============================] - 1s 61us/step - loss: 0.2457 - accuracy: 0.9207 - val_loss: 0.3126 - val_accuracy: 0.8717\n",
      "Epoch 4/20\n",
      "15000/15000 [==============================] - 1s 62us/step - loss: 0.1889 - accuracy: 0.9393 - val_loss: 0.2773 - val_accuracy: 0.8897\n",
      "Epoch 5/20\n",
      "15000/15000 [==============================] - 1s 63us/step - loss: 0.1531 - accuracy: 0.9503 - val_loss: 0.2805 - val_accuracy: 0.8874\n",
      "Epoch 6/20\n",
      "15000/15000 [==============================] - 1s 64us/step - loss: 0.1258 - accuracy: 0.9601 - val_loss: 0.2875 - val_accuracy: 0.8889\n",
      "Epoch 7/20\n",
      "15000/15000 [==============================] - 1s 62us/step - loss: 0.1037 - accuracy: 0.9684 - val_loss: 0.3088 - val_accuracy: 0.8846\n",
      "Epoch 8/20\n",
      "15000/15000 [==============================] - 1s 83us/step - loss: 0.0847 - accuracy: 0.9750 - val_loss: 0.3245 - val_accuracy: 0.8825\n",
      "Epoch 9/20\n",
      "15000/15000 [==============================] - 1s 62us/step - loss: 0.0725 - accuracy: 0.9789 - val_loss: 0.3543 - val_accuracy: 0.8775\n",
      "Epoch 10/20\n",
      "15000/15000 [==============================] - 1s 72us/step - loss: 0.0611 - accuracy: 0.9833 - val_loss: 0.3747 - val_accuracy: 0.8769\n",
      "Epoch 11/20\n",
      "15000/15000 [==============================] - 1s 69us/step - loss: 0.0465 - accuracy: 0.9891 - val_loss: 0.4124 - val_accuracy: 0.8759\n",
      "Epoch 12/20\n",
      "15000/15000 [==============================] - 1s 67us/step - loss: 0.0397 - accuracy: 0.9905 - val_loss: 0.4369 - val_accuracy: 0.8756\n",
      "Epoch 13/20\n",
      "15000/15000 [==============================] - 1s 63us/step - loss: 0.0324 - accuracy: 0.9926 - val_loss: 0.4696 - val_accuracy: 0.8729\n",
      "Epoch 14/20\n",
      "15000/15000 [==============================] - 1s 60us/step - loss: 0.0269 - accuracy: 0.9941 - val_loss: 0.4979 - val_accuracy: 0.8721\n",
      "Epoch 15/20\n",
      "15000/15000 [==============================] - 1s 61us/step - loss: 0.0215 - accuracy: 0.9951 - val_loss: 0.5298 - val_accuracy: 0.8696\n",
      "Epoch 16/20\n",
      "15000/15000 [==============================] - 1s 60us/step - loss: 0.0161 - accuracy: 0.9974 - val_loss: 0.5611 - val_accuracy: 0.8694\n",
      "Epoch 17/20\n",
      "15000/15000 [==============================] - 1s 60us/step - loss: 0.0112 - accuracy: 0.9991 - val_loss: 0.6542 - val_accuracy: 0.8561\n",
      "Epoch 18/20\n",
      "15000/15000 [==============================] - 1s 61us/step - loss: 0.0120 - accuracy: 0.9983 - val_loss: 0.6305 - val_accuracy: 0.8680\n",
      "Epoch 19/20\n",
      "15000/15000 [==============================] - 1s 60us/step - loss: 0.0072 - accuracy: 0.9994 - val_loss: 0.6691 - val_accuracy: 0.8672\n",
      "Epoch 20/20\n",
      "15000/15000 [==============================] - 1s 61us/step - loss: 0.0068 - accuracy: 0.9991 - val_loss: 0.7052 - val_accuracy: 0.8651\n"
     ]
    }
   ],
   "source": [
    "history=model.fit(partial_x_train,\n",
    "          partial_y_train,\n",
    "          epochs=20,\n",
    "          batch_size=512,\n",
    "          validation_data=(x_val,y_val))"
   ]
  },
  {
   "cell_type": "code",
   "execution_count": 20,
   "metadata": {},
   "outputs": [
    {
     "data": {
      "text/plain": [
       "dict_keys(['val_loss', 'val_accuracy', 'loss', 'accuracy'])"
      ]
     },
     "execution_count": 20,
     "metadata": {},
     "output_type": "execute_result"
    }
   ],
   "source": [
    "history_dict=history.history\n",
    "history_dict.keys()"
   ]
  },
  {
   "cell_type": "code",
   "execution_count": null,
   "metadata": {},
   "outputs": [],
   "source": []
  }
 ],
 "metadata": {
  "kernelspec": {
   "display_name": "Python 3",
   "language": "python",
   "name": "python3"
  },
  "language_info": {
   "codemirror_mode": {
    "name": "ipython",
    "version": 3
   },
   "file_extension": ".py",
   "mimetype": "text/x-python",
   "name": "python",
   "nbconvert_exporter": "python",
   "pygments_lexer": "ipython3",
   "version": "3.7.4"
  }
 },
 "nbformat": 4,
 "nbformat_minor": 4
}
